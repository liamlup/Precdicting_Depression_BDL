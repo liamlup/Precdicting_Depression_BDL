{
 "cells": [
  {
   "cell_type": "code",
   "execution_count": 1,
   "metadata": {
    "collapsed": true,
    "ExecuteTime": {
     "end_time": "2023-08-01T09:51:58.522161Z",
     "start_time": "2023-08-01T09:51:57.599245Z"
    }
   },
   "outputs": [],
   "source": [
    "import numpy as np\n",
    "import matplotlib.pyplot as plt\n",
    "import pandas as pd\n",
    "from imblearn.over_sampling import SMOTE\n",
    "from sklearn.model_selection import train_test_split\n",
    "from  sklearn.preprocessing import MinMaxScaler\n",
    "from sklearn.metrics import classification_report, confusion_matrix, precision_score, recall_score, f1_score, accuracy_score\n",
    "import seaborn as sns"
   ]
  },
  {
   "cell_type": "code",
   "execution_count": 19,
   "outputs": [],
   "source": [
    "# Depression scores from questionnaire of 2005-2018\n",
    "files = [\"DPQ_D.XPT\", \"DPQ_E.XPT\", \"DPQ_F.XPT\", \"DPQ_G.XPT\", \"DPQ_H.XPT\", \"DPQ_I.XPT\", \"DPQ_J.XPT\"]\n",
    "\n",
    "columns = [\"DPQ0\" + str(i) for i in range(10, 100, 10)]  # DPQ010 to DPQ090\n",
    "columns.insert(0,'SEQN')  # add SEQN column\n",
    "dfs = []  # list to store dataframes\n",
    "\n",
    "for file in  files:\n",
    "    df = pd.read_sas('data/questionnaire/' + file,format='xport',encoding='utf-8')  # read the file\n",
    "    df = df[columns] # extract the required columns\n",
    "    dfs.append(df)\n",
    "\n",
    "# combine all dataframes\n",
    "combined_df = pd.concat(dfs)\n",
    "combined_df = combined_df[(combined_df != 7) & (combined_df != 9)].dropna()\n",
    "combined_df = np.round(combined_df, 0).astype('int64')\n",
    "combined_df['score'] = combined_df.sum(axis=1) - combined_df['SEQN']\n",
    "combined_df = combined_df[['SEQN', 'score']]"
   ],
   "metadata": {
    "collapsed": false,
    "ExecuteTime": {
     "end_time": "2023-08-01T09:53:14.000786Z",
     "start_time": "2023-08-01T09:53:13.922329Z"
    }
   }
  },
  {
   "cell_type": "code",
   "execution_count": 20,
   "outputs": [],
   "source": [
    "# complete blood count\n",
    "files = [\"CBC_D.XPT\", \"CBC_E.XPT\", \"CBC_F.XPT\", \"CBC_G.XPT\", \"CBC_H.XPT\", \"CBC_I.XPT\", \"CBC_J.XPT\"]\n",
    "columns = [\"SEQN\",\"LBXWBCSI\",\"LBXLYPCT\",\"LBXMOPCT\", \"LBXNEPCT\", \"LBXEOPCT\", \"LBXBAPCT\", \"LBXRBCSI\", \"LBXHGB\", \"LBXMCVSI\", \"LBXRDW\", \"LBXPLTSI\",\"LBXMPSI\"]\n",
    "dfs = []  # list to store dataframes\n",
    "\n",
    "for file in  files:\n",
    "    df = pd.read_sas('data/CBC/' + file,format='xport',encoding='utf-8')  # read the file\n",
    "    df = df[columns] # extract the required columns\n",
    "    dfs.append(df)\n",
    "CBC_df = pd.concat(dfs)\n",
    "CBC_df = CBC_df.dropna()\n",
    "# convert SEQN to int\n",
    "CBC_df['SEQN'] = CBC_df['SEQN'].astype('int64')\n",
    "# merge with combined_df\n",
    "combined_df = pd.merge(combined_df, CBC_df, on='SEQN')"
   ],
   "metadata": {
    "collapsed": false,
    "ExecuteTime": {
     "end_time": "2023-08-01T09:53:14.363301Z",
     "start_time": "2023-08-01T09:53:14.152917Z"
    }
   }
  },
  {
   "cell_type": "code",
   "execution_count": 21,
   "outputs": [],
   "source": [
    "# demographics\n",
    "files = [\"DEMO_D.XPT\", \"DEMO_E.XPT\", \"DEMO_F.XPT\", \"DEMO_G.XPT\", \"DEMO_H.XPT\", \"DEMO_I.XPT\", \"DEMO_J.XPT\"]\n",
    "columns = [\"SEQN\",\"RIAGENDR\", \"RIDAGEYR\", \"DMDEDUC2\"]\n",
    "dfs = []  # list to store dataframes\n",
    "\n",
    "for file in  files:\n",
    "    df = pd.read_sas('data/demo/' + file,format='xport',encoding='utf-8')  # read the file\n",
    "    df = df[columns] # extract the required columns\n",
    "    dfs.append(df)\n",
    "demo_df = pd.concat(dfs)\n",
    "demo_df = demo_df.dropna()\n",
    "demo_df = demo_df[(demo_df != 7) & (demo_df != 9)].dropna()\n",
    "demo_df = np.round(demo_df, 0).astype('int64')\n",
    "demo_df['male'] = (demo_df['RIAGENDR'] == 1)*1\n",
    "demo_df['female'] = (demo_df['RIAGENDR'] == 2)*1\n",
    "demo_df = demo_df.drop(columns=['RIAGENDR'])\n",
    "demo_df.rename(columns={'RIDAGEYR': 'age', 'DMDEDUC2': 'education'}, inplace=True)\n",
    "# merge with combined_df\n",
    "combined_df = pd.merge(combined_df, demo_df, on='SEQN')"
   ],
   "metadata": {
    "collapsed": false,
    "ExecuteTime": {
     "end_time": "2023-08-01T09:53:14.765619Z",
     "start_time": "2023-08-01T09:53:14.371274Z"
    }
   }
  },
  {
   "cell_type": "code",
   "execution_count": 22,
   "outputs": [],
   "source": [
    "# sleep 2005-2014\n",
    "files = [\"SLQ_D.XPT\", \"SLQ_E.XPT\", \"SLQ_F.XPT\", \"SLQ_G.XPT\", \"SLQ_H.XPT\"]\n",
    "columns = ['SEQN', 'SLD010H']\n",
    "dfs = []  # list to store dataframes\n",
    "\n",
    "for file in  files:\n",
    "    df = pd.read_sas('data/sleep/' + file,format='xport',encoding='utf-8')  # read the file\n",
    "    df = df[columns] # extract the required columns\n",
    "    dfs.append(df)\n",
    "# 2015-2016\n",
    "df = pd.read_sas('data/sleep/' + 'SLQ_I.XPT',format='xport',encoding='utf-8')  # read the file\n",
    "df = df[[\"SEQN\", 'SLD012']] # extract the required columns\n",
    "df.rename(columns={'SLD012': 'SLD010H'}, inplace=True)\n",
    "dfs.append(df)\n",
    "\n",
    "df = pd.read_sas('data/sleep/' + 'SLQ_J.XPT',format='xport',encoding='utf-8')  # read the file\n",
    "df = df[[\"SEQN\", 'SLD012']] # extract the required columns\n",
    "df.rename(columns={'SLD012': 'SLD010H'}, inplace=True)\n",
    "dfs.append(df)\n",
    "\n",
    "sleep_df = pd.concat(dfs)\n",
    "sleep_df = sleep_df[(sleep_df != 77) & (sleep_df != 99)].dropna()\n",
    "sleep_df = np.round(sleep_df, 0).astype('int64')\n",
    "sleep_df.rename(columns={'SLD010H': 'sleep'}, inplace=True)\n",
    "# merge with combined_df\n",
    "combined_df = pd.merge(combined_df, sleep_df, on='SEQN')"
   ],
   "metadata": {
    "collapsed": false,
    "ExecuteTime": {
     "end_time": "2023-08-01T09:53:14.875785Z",
     "start_time": "2023-08-01T09:53:14.770773Z"
    }
   }
  },
  {
   "cell_type": "code",
   "execution_count": 23,
   "outputs": [],
   "source": [
    "# alcohol\n",
    "files = [\"ALQ_D.XPT\", \"ALQ_E.XPT\", \"ALQ_F.XPT\", \"ALQ_G.XPT\", \"ALQ_H.XPT\", \"ALQ_I.XPT\", \"ALQ_J.XPT\"]\n",
    "columns = ['SEQN', 'ALQ130']\n",
    "dfs = []  # list to store dataframes\n",
    "\n",
    "for file in  files:\n",
    "    df = pd.read_sas('data/alcohol/' + file,format='xport',encoding='utf-8')  # read the file\n",
    "    df = df[columns] # extract the required columns\n",
    "    dfs.append(df)\n",
    "\n",
    "alcohol_df = pd.concat(dfs)\n",
    "alcohol_df = alcohol_df[(alcohol_df != 777) & (alcohol_df != 999)].dropna()\n",
    "alcohol_df = np.round(alcohol_df, 0).astype('int64')\n",
    "alcohol_df.rename(columns={'ALQ130': 'alcohol'}, inplace=True)\n",
    "# merge with combined_df\n",
    "combined_df = pd.merge(combined_df, alcohol_df, on='SEQN')"
   ],
   "metadata": {
    "collapsed": false,
    "ExecuteTime": {
     "end_time": "2023-08-01T09:53:14.960780Z",
     "start_time": "2023-08-01T09:53:14.883663Z"
    }
   }
  },
  {
   "cell_type": "code",
   "execution_count": 24,
   "outputs": [],
   "source": [
    "# diet\n",
    "files = [\"DBQ_D.XPT\", \"DBQ_E.XPT\", \"DBQ_F.XPT\", \"DBQ_G.XPT\", \"DBQ_H.XPT\", \"DBQ_I.XPT\", \"DBQ_J.XPT\"]\n",
    "columns = [\"SEQN\", \"DBQ700\"]\n",
    "dfs = []  # list to store dataframes\n",
    "\n",
    "for file in  files:\n",
    "    df = pd.read_sas('data/diet/' + file,format='xport',encoding='utf-8')  # read the file\n",
    "    df = df[columns] # extract the required columns\n",
    "    dfs.append(df)\n",
    "    \n",
    "diet_df = pd.concat(dfs)\n",
    "diet_df = diet_df[(diet_df != 7) & (diet_df != 9)].dropna()\n",
    "diet_df = np.round(diet_df, 0).astype('int64')\n",
    "# how healthy is diet: 5 is best, 1 is worst\n",
    "diet_df['DBQ700'] = 6 - diet_df['DBQ700']\n",
    "diet_df.rename(columns={'DBQ700': 'diet'}, inplace=True)\n",
    "# merge with combined_df\n",
    "combined_df = pd.merge(combined_df, diet_df, on='SEQN')"
   ],
   "metadata": {
    "collapsed": false,
    "ExecuteTime": {
     "end_time": "2023-08-01T09:53:15.534938Z",
     "start_time": "2023-08-01T09:53:15.046802Z"
    }
   }
  },
  {
   "cell_type": "code",
   "execution_count": 25,
   "outputs": [],
   "source": [
    "# physical activity\n",
    "files = [\"PAQ_E.XPT\", \"PAQ_F.XPT\", \"PAQ_G.XPT\", \"PAQ_H.XPT\", \"PAQ_I.XPT\", \"PAQ_J.XPT\"]\n",
    "columns = [\"SEQN\",\"PAQ650\", \"PAQ665\"]\n",
    "dfs = []  # list to store dataframes\n",
    "\n",
    "for file in  files:\n",
    "    df = pd.read_sas('data/physical_activity/' + file,format='xport',encoding='utf-8')  # read the file\n",
    "    df = df[columns] # extract the required columns\n",
    "    dfs.append(df)\n",
    "# 2005-2006\n",
    "df = pd.read_sas('data/physical_activity/' + 'PAQ_D.XPT',format='xport',encoding='utf-8')  # read the file\n",
    "df = df[[\"SEQN\",\"PAD200\", \"PAD320\"]] # extract the required columns\n",
    "# change the value 3 to 2\n",
    "df['PAD200'] = df['PAD200'].replace(3, 2)\n",
    "df['PAD320'] = df['PAD320'].replace(3, 2)\n",
    "df.rename(columns={'PAD200': 'PAQ650', 'PAD320': 'PAQ665'}, inplace=True)\n",
    "dfs.append(df)\n",
    "\n",
    "    \n",
    "physical_activity_df = pd.concat(dfs)\n",
    "physical_activity_df = physical_activity_df[(physical_activity_df != 7) & (physical_activity_df != 9)].dropna()\n",
    "physical_activity_df = np.round(physical_activity_df, 0).astype('int64')\n",
    "physical_activity_df.replace(2, 0, inplace=True)\n",
    "physical_activity_df.rename(columns={'PAQ650': 'vigorous activity', 'PAQ665': 'moderate activity'}, inplace=True)\n",
    "# sort by SEQN in ascending order\n",
    "physical_activity_df.sort_values(by=['SEQN'], inplace=True)\n",
    "# merge with combined_df\n",
    "combined_df = pd.merge(combined_df, physical_activity_df, on='SEQN')\n",
    "\n"
   ],
   "metadata": {
    "collapsed": false,
    "ExecuteTime": {
     "end_time": "2023-08-01T09:53:15.878458Z",
     "start_time": "2023-08-01T09:53:15.545980Z"
    }
   }
  },
  {
   "cell_type": "code",
   "execution_count": 26,
   "outputs": [
    {
     "data": {
      "text/plain": "         SEQN  score  LBXWBCSI  LBXLYPCT  LBXMOPCT  LBXNEPCT  LBXEOPCT  \\\n0       31132      0       7.5      29.4       9.1      58.9       2.2   \n1       31134      0       6.6      29.1      12.0      55.4       3.3   \n2       31144      0       9.6      22.1       7.3      65.7       3.7   \n3       31150      1       6.5      18.8       9.6      68.7       2.4   \n4       31154      0       6.9      36.0       7.7      52.0       3.3   \n...       ...    ...       ...       ...       ...       ...       ...   \n21917  102943      1       9.5      44.3       4.6      47.9       2.1   \n21918  102944      0       7.6      35.6       8.1      50.3       5.6   \n21919  102947      1       3.6      38.0      18.6      42.5       0.3   \n21920  102953      3       8.3      28.3       6.8      60.8       3.6   \n21921  102956      7       9.0      29.4       6.9      58.8       4.0   \n\n       LBXBAPCT  LBXRBCSI  LBXHGB  ...  LBXMPSI  age  education  male  female  \\\n0           0.4      4.72    14.5  ...      8.6   70          5     1       0   \n1           0.2      5.45    15.9  ...      7.8   73          3     1       0   \n2           1.3      5.09    17.0  ...      9.1   21          3     1       0   \n3           0.4      4.48    14.4  ...      8.8   79          3     1       0   \n4           1.0      5.41    16.5  ...      8.4   62          3     1       0   \n...         ...       ...     ...  ...      ...  ...        ...   ...     ...   \n21917       1.2      4.69    13.9  ...      9.3   48          4     0       1   \n21918       0.5      5.31    16.9  ...      6.7   55          3     1       0   \n21919       0.7      4.93    10.7  ...      9.3   75          5     1       0   \n21920       0.6      5.01    15.5  ...      8.7   42          3     1       0   \n21921       1.0      5.46    17.4  ...      8.5   38          4     1       0   \n\n       sleep  alcohol  diet  vigorous activity  moderate activity  \n0          7        1     4                  0                  1  \n1          7        2     3                  0                  1  \n2          8        2     5                  1                  1  \n3          8        3     2                  1                  1  \n4          5        3     3                  0                  0  \n...      ...      ...   ...                ...                ...  \n21917      6        2     1                  0                  0  \n21918      6        3     4                  0                  0  \n21919      7        1     4                  0                  1  \n21920      6       12     1                  0                  0  \n21921      8        2     2                  0                  0  \n\n[21922 rows x 23 columns]",
      "text/html": "<div>\n<style scoped>\n    .dataframe tbody tr th:only-of-type {\n        vertical-align: middle;\n    }\n\n    .dataframe tbody tr th {\n        vertical-align: top;\n    }\n\n    .dataframe thead th {\n        text-align: right;\n    }\n</style>\n<table border=\"1\" class=\"dataframe\">\n  <thead>\n    <tr style=\"text-align: right;\">\n      <th></th>\n      <th>SEQN</th>\n      <th>score</th>\n      <th>LBXWBCSI</th>\n      <th>LBXLYPCT</th>\n      <th>LBXMOPCT</th>\n      <th>LBXNEPCT</th>\n      <th>LBXEOPCT</th>\n      <th>LBXBAPCT</th>\n      <th>LBXRBCSI</th>\n      <th>LBXHGB</th>\n      <th>...</th>\n      <th>LBXMPSI</th>\n      <th>age</th>\n      <th>education</th>\n      <th>male</th>\n      <th>female</th>\n      <th>sleep</th>\n      <th>alcohol</th>\n      <th>diet</th>\n      <th>vigorous activity</th>\n      <th>moderate activity</th>\n    </tr>\n  </thead>\n  <tbody>\n    <tr>\n      <th>0</th>\n      <td>31132</td>\n      <td>0</td>\n      <td>7.5</td>\n      <td>29.4</td>\n      <td>9.1</td>\n      <td>58.9</td>\n      <td>2.2</td>\n      <td>0.4</td>\n      <td>4.72</td>\n      <td>14.5</td>\n      <td>...</td>\n      <td>8.6</td>\n      <td>70</td>\n      <td>5</td>\n      <td>1</td>\n      <td>0</td>\n      <td>7</td>\n      <td>1</td>\n      <td>4</td>\n      <td>0</td>\n      <td>1</td>\n    </tr>\n    <tr>\n      <th>1</th>\n      <td>31134</td>\n      <td>0</td>\n      <td>6.6</td>\n      <td>29.1</td>\n      <td>12.0</td>\n      <td>55.4</td>\n      <td>3.3</td>\n      <td>0.2</td>\n      <td>5.45</td>\n      <td>15.9</td>\n      <td>...</td>\n      <td>7.8</td>\n      <td>73</td>\n      <td>3</td>\n      <td>1</td>\n      <td>0</td>\n      <td>7</td>\n      <td>2</td>\n      <td>3</td>\n      <td>0</td>\n      <td>1</td>\n    </tr>\n    <tr>\n      <th>2</th>\n      <td>31144</td>\n      <td>0</td>\n      <td>9.6</td>\n      <td>22.1</td>\n      <td>7.3</td>\n      <td>65.7</td>\n      <td>3.7</td>\n      <td>1.3</td>\n      <td>5.09</td>\n      <td>17.0</td>\n      <td>...</td>\n      <td>9.1</td>\n      <td>21</td>\n      <td>3</td>\n      <td>1</td>\n      <td>0</td>\n      <td>8</td>\n      <td>2</td>\n      <td>5</td>\n      <td>1</td>\n      <td>1</td>\n    </tr>\n    <tr>\n      <th>3</th>\n      <td>31150</td>\n      <td>1</td>\n      <td>6.5</td>\n      <td>18.8</td>\n      <td>9.6</td>\n      <td>68.7</td>\n      <td>2.4</td>\n      <td>0.4</td>\n      <td>4.48</td>\n      <td>14.4</td>\n      <td>...</td>\n      <td>8.8</td>\n      <td>79</td>\n      <td>3</td>\n      <td>1</td>\n      <td>0</td>\n      <td>8</td>\n      <td>3</td>\n      <td>2</td>\n      <td>1</td>\n      <td>1</td>\n    </tr>\n    <tr>\n      <th>4</th>\n      <td>31154</td>\n      <td>0</td>\n      <td>6.9</td>\n      <td>36.0</td>\n      <td>7.7</td>\n      <td>52.0</td>\n      <td>3.3</td>\n      <td>1.0</td>\n      <td>5.41</td>\n      <td>16.5</td>\n      <td>...</td>\n      <td>8.4</td>\n      <td>62</td>\n      <td>3</td>\n      <td>1</td>\n      <td>0</td>\n      <td>5</td>\n      <td>3</td>\n      <td>3</td>\n      <td>0</td>\n      <td>0</td>\n    </tr>\n    <tr>\n      <th>...</th>\n      <td>...</td>\n      <td>...</td>\n      <td>...</td>\n      <td>...</td>\n      <td>...</td>\n      <td>...</td>\n      <td>...</td>\n      <td>...</td>\n      <td>...</td>\n      <td>...</td>\n      <td>...</td>\n      <td>...</td>\n      <td>...</td>\n      <td>...</td>\n      <td>...</td>\n      <td>...</td>\n      <td>...</td>\n      <td>...</td>\n      <td>...</td>\n      <td>...</td>\n      <td>...</td>\n    </tr>\n    <tr>\n      <th>21917</th>\n      <td>102943</td>\n      <td>1</td>\n      <td>9.5</td>\n      <td>44.3</td>\n      <td>4.6</td>\n      <td>47.9</td>\n      <td>2.1</td>\n      <td>1.2</td>\n      <td>4.69</td>\n      <td>13.9</td>\n      <td>...</td>\n      <td>9.3</td>\n      <td>48</td>\n      <td>4</td>\n      <td>0</td>\n      <td>1</td>\n      <td>6</td>\n      <td>2</td>\n      <td>1</td>\n      <td>0</td>\n      <td>0</td>\n    </tr>\n    <tr>\n      <th>21918</th>\n      <td>102944</td>\n      <td>0</td>\n      <td>7.6</td>\n      <td>35.6</td>\n      <td>8.1</td>\n      <td>50.3</td>\n      <td>5.6</td>\n      <td>0.5</td>\n      <td>5.31</td>\n      <td>16.9</td>\n      <td>...</td>\n      <td>6.7</td>\n      <td>55</td>\n      <td>3</td>\n      <td>1</td>\n      <td>0</td>\n      <td>6</td>\n      <td>3</td>\n      <td>4</td>\n      <td>0</td>\n      <td>0</td>\n    </tr>\n    <tr>\n      <th>21919</th>\n      <td>102947</td>\n      <td>1</td>\n      <td>3.6</td>\n      <td>38.0</td>\n      <td>18.6</td>\n      <td>42.5</td>\n      <td>0.3</td>\n      <td>0.7</td>\n      <td>4.93</td>\n      <td>10.7</td>\n      <td>...</td>\n      <td>9.3</td>\n      <td>75</td>\n      <td>5</td>\n      <td>1</td>\n      <td>0</td>\n      <td>7</td>\n      <td>1</td>\n      <td>4</td>\n      <td>0</td>\n      <td>1</td>\n    </tr>\n    <tr>\n      <th>21920</th>\n      <td>102953</td>\n      <td>3</td>\n      <td>8.3</td>\n      <td>28.3</td>\n      <td>6.8</td>\n      <td>60.8</td>\n      <td>3.6</td>\n      <td>0.6</td>\n      <td>5.01</td>\n      <td>15.5</td>\n      <td>...</td>\n      <td>8.7</td>\n      <td>42</td>\n      <td>3</td>\n      <td>1</td>\n      <td>0</td>\n      <td>6</td>\n      <td>12</td>\n      <td>1</td>\n      <td>0</td>\n      <td>0</td>\n    </tr>\n    <tr>\n      <th>21921</th>\n      <td>102956</td>\n      <td>7</td>\n      <td>9.0</td>\n      <td>29.4</td>\n      <td>6.9</td>\n      <td>58.8</td>\n      <td>4.0</td>\n      <td>1.0</td>\n      <td>5.46</td>\n      <td>17.4</td>\n      <td>...</td>\n      <td>8.5</td>\n      <td>38</td>\n      <td>4</td>\n      <td>1</td>\n      <td>0</td>\n      <td>8</td>\n      <td>2</td>\n      <td>2</td>\n      <td>0</td>\n      <td>0</td>\n    </tr>\n  </tbody>\n</table>\n<p>21922 rows × 23 columns</p>\n</div>"
     },
     "execution_count": 26,
     "metadata": {},
     "output_type": "execute_result"
    }
   ],
   "source": [
    "combined_df"
   ],
   "metadata": {
    "collapsed": false,
    "ExecuteTime": {
     "end_time": "2023-08-01T09:53:15.917491Z",
     "start_time": "2023-08-01T09:53:15.884936Z"
    }
   }
  },
  {
   "cell_type": "code",
   "execution_count": 37,
   "outputs": [],
   "source": [
    "# smoking\n",
    "files = [\"SMQ_D.XPT\",\"SMQ_E.XPT\", \"SMQ_F.XPT\", \"SMQ_G.XPT\", \"SMQ_H.XPT\", \"SMQ_I.XPT\", \"SMQ_J.XPT\"]\n",
    "columns = [\"SEQN\", \"SMQ040\"]\n",
    "dfs = []  # list to store dataframes\n",
    "\n",
    "for file in  files:\n",
    "    df = pd.read_sas('data/smoking/' + file,format='xport',encoding='utf-8')  # read the file\n",
    "    df = df[columns] # extract the required columns\n",
    "    dfs.append(df)\n",
    "\n",
    "smoking_df = pd.concat(dfs)\n",
    "smoking_df = smoking_df[(smoking_df != 7) & (smoking_df != 9)].dropna()\n",
    "smoking_df = np.round(smoking_df, 0).astype('int64')\n",
    "smoking_df.rename(columns={'SMQ040': 'smoking'}, inplace=True)\n",
    "# change  3 to 0, 2 to 1, and 1 to 2\n",
    "smoking_df['smoking'] = smoking_df['smoking'].replace(3, 0)\n",
    "smoking_df['smoking'] = smoking_df['smoking'].replace(2, 3)\n",
    "smoking_df['smoking'] = smoking_df['smoking'].replace(1, 2) #temp\n",
    "smoking_df['smoking'] = smoking_df['smoking'].replace(3, 1)\n",
    "# merge with combined_df\n",
    "combined_df = pd.merge(combined_df, smoking_df, on='SEQN')"
   ],
   "metadata": {
    "collapsed": false,
    "ExecuteTime": {
     "end_time": "2023-08-01T09:58:31.658327Z",
     "start_time": "2023-08-01T09:58:31.389612Z"
    }
   }
  },
  {
   "cell_type": "code",
   "execution_count": 40,
   "outputs": [],
   "source": [
    "# Blood pressure\n",
    "files = [\"BPX_D.XPT\", \"BPX_E.XPT\", \"BPX_F.XPT\", \"BPX_G.XPT\", \"BPX_H.XPT\", \"BPX_I.XPT\", \"BPX_J.XPT\"]\n",
    "columns = [\"SEQN\", \"BPXSY1\", \"BPXDI1\"]\n",
    "dfs = []  # list to store dataframes\n",
    "\n",
    "for file in  files:\n",
    "    df = pd.read_sas('data/BP/' + file,format='xport',encoding='utf-8')  # read the file\n",
    "    df = df[columns] # extract the required columns\n",
    "    dfs.append(df)\n",
    "    \n",
    "blood_pressure_df = pd.concat(dfs)\n",
    "blood_pressure_df = blood_pressure_df.dropna()\n",
    "blood_pressure_df = np.round(blood_pressure_df, 0).astype('int64')\n",
    "blood_pressure_df.rename(columns={'BPXSY1': 'SBP', 'BPXDI1': 'DBP'}, inplace=True)\n",
    "# merge with combined_df\n",
    "combined_df = pd.merge(combined_df, blood_pressure_df, on='SEQN')"
   ],
   "metadata": {
    "collapsed": false,
    "ExecuteTime": {
     "end_time": "2023-08-01T10:04:25.907386Z",
     "start_time": "2023-08-01T10:04:25.661950Z"
    }
   }
  },
  {
   "cell_type": "code",
   "execution_count": 46,
   "outputs": [],
   "source": [
    "# weight [kG]\n",
    "files = [\"BMX_D.XPT\", \"BMX_E.XPT\", \"BMX_F.XPT\", \"BMX_G.XPT\", \"BMX_H.XPT\", \"BMX_I.XPT\", \"BMX_J.XPT\"]\n",
    "columns = [\"SEQN\", \"BMXWT\"]\n",
    "dfs = []  # list to store dataframes\n",
    "\n",
    "for file in  files:\n",
    "    df = pd.read_sas('data/weight/' + file,format='xport',encoding='utf-8')  # read the file\n",
    "    df = df[columns] # extract the required columns\n",
    "    dfs.append(df)\n",
    "    \n",
    "weight_df = pd.concat(dfs)\n",
    "weight_df = weight_df.dropna()\n",
    "\n",
    "weight_df.rename(columns={'BMXWT': 'weight'}, inplace=True)\n",
    "# merge with combined_df\n",
    "combined_df = pd.merge(combined_df, weight_df, on='SEQN')\n"
   ],
   "metadata": {
    "collapsed": false,
    "ExecuteTime": {
     "end_time": "2023-08-01T10:08:23.108923Z",
     "start_time": "2023-08-01T10:08:22.942475Z"
    }
   }
  },
  {
   "cell_type": "code",
   "execution_count": 47,
   "outputs": [
    {
     "data": {
      "text/plain": "         SEQN  score  LBXWBCSI  LBXLYPCT  LBXMOPCT  LBXNEPCT  LBXEOPCT  \\\n0       31150      1       6.5      18.8       9.6      68.7       2.4   \n1       31154      0       6.9      36.0       7.7      52.0       3.3   \n2       31158      2       8.0      25.6       5.9      62.2       5.1   \n3       31167      3       9.5      27.3       7.6      62.3       2.3   \n4       31192      2      10.6      13.0       5.1      81.4       0.6   \n...       ...    ...       ...       ...       ...       ...       ...   \n10027  102920      7       6.1      31.9       8.1      55.0       4.2   \n10028  102924      6      11.3      32.6       8.0      57.8       0.8   \n10029  102947      1       3.6      38.0      18.6      42.5       0.3   \n10030  102953      3       8.3      28.3       6.8      60.8       3.6   \n10031  102956      7       9.0      29.4       6.9      58.8       4.0   \n\n           LBXBAPCT  LBXRBCSI  LBXHGB  ...  female  sleep  alcohol  diet  \\\n0      4.000000e-01      4.48    14.4  ...       0      8        3     2   \n1      1.000000e+00      5.41    16.5  ...       0      5        3     3   \n2      1.200000e+00      4.73    15.9  ...       0      9        2     5   \n3      4.000000e-01      5.30    16.3  ...       0      4        2     3   \n4      5.397605e-79      4.65    13.1  ...       1      6        1     1   \n...             ...       ...     ...  ...     ...    ...      ...   ...   \n10027  8.000000e-01      4.79    14.6  ...       1      7        3     2   \n10028  1.000000e+00      4.87    13.5  ...       1      6        1     4   \n10029  7.000000e-01      4.93    10.7  ...       0      7        1     4   \n10030  6.000000e-01      5.01    15.5  ...       0      6       12     1   \n10031  1.000000e+00      5.46    17.4  ...       0      8        2     2   \n\n       vigorous activity  moderate activity  smoking  SBP  DBP  weight  \n0                      1                  1        0  144   74    85.0  \n1                      0                  0        2  154   80    88.2  \n2                      0                  1        2  154   74    69.2  \n3                      0                  1        2  144   80   129.9  \n4                      1                  1        0  128   76    91.7  \n...                  ...                ...      ...  ...  ...     ...  \n10027                  0                  0        0  166   94    73.0  \n10028                  0                  0        0  124   68   129.2  \n10029                  0                  1        0  160   82    73.2  \n10030                  0                  0        0  124   76    97.4  \n10031                  0                  0        2  150   98   111.5  \n\n[10032 rows x 27 columns]",
      "text/html": "<div>\n<style scoped>\n    .dataframe tbody tr th:only-of-type {\n        vertical-align: middle;\n    }\n\n    .dataframe tbody tr th {\n        vertical-align: top;\n    }\n\n    .dataframe thead th {\n        text-align: right;\n    }\n</style>\n<table border=\"1\" class=\"dataframe\">\n  <thead>\n    <tr style=\"text-align: right;\">\n      <th></th>\n      <th>SEQN</th>\n      <th>score</th>\n      <th>LBXWBCSI</th>\n      <th>LBXLYPCT</th>\n      <th>LBXMOPCT</th>\n      <th>LBXNEPCT</th>\n      <th>LBXEOPCT</th>\n      <th>LBXBAPCT</th>\n      <th>LBXRBCSI</th>\n      <th>LBXHGB</th>\n      <th>...</th>\n      <th>female</th>\n      <th>sleep</th>\n      <th>alcohol</th>\n      <th>diet</th>\n      <th>vigorous activity</th>\n      <th>moderate activity</th>\n      <th>smoking</th>\n      <th>SBP</th>\n      <th>DBP</th>\n      <th>weight</th>\n    </tr>\n  </thead>\n  <tbody>\n    <tr>\n      <th>0</th>\n      <td>31150</td>\n      <td>1</td>\n      <td>6.5</td>\n      <td>18.8</td>\n      <td>9.6</td>\n      <td>68.7</td>\n      <td>2.4</td>\n      <td>4.000000e-01</td>\n      <td>4.48</td>\n      <td>14.4</td>\n      <td>...</td>\n      <td>0</td>\n      <td>8</td>\n      <td>3</td>\n      <td>2</td>\n      <td>1</td>\n      <td>1</td>\n      <td>0</td>\n      <td>144</td>\n      <td>74</td>\n      <td>85.0</td>\n    </tr>\n    <tr>\n      <th>1</th>\n      <td>31154</td>\n      <td>0</td>\n      <td>6.9</td>\n      <td>36.0</td>\n      <td>7.7</td>\n      <td>52.0</td>\n      <td>3.3</td>\n      <td>1.000000e+00</td>\n      <td>5.41</td>\n      <td>16.5</td>\n      <td>...</td>\n      <td>0</td>\n      <td>5</td>\n      <td>3</td>\n      <td>3</td>\n      <td>0</td>\n      <td>0</td>\n      <td>2</td>\n      <td>154</td>\n      <td>80</td>\n      <td>88.2</td>\n    </tr>\n    <tr>\n      <th>2</th>\n      <td>31158</td>\n      <td>2</td>\n      <td>8.0</td>\n      <td>25.6</td>\n      <td>5.9</td>\n      <td>62.2</td>\n      <td>5.1</td>\n      <td>1.200000e+00</td>\n      <td>4.73</td>\n      <td>15.9</td>\n      <td>...</td>\n      <td>0</td>\n      <td>9</td>\n      <td>2</td>\n      <td>5</td>\n      <td>0</td>\n      <td>1</td>\n      <td>2</td>\n      <td>154</td>\n      <td>74</td>\n      <td>69.2</td>\n    </tr>\n    <tr>\n      <th>3</th>\n      <td>31167</td>\n      <td>3</td>\n      <td>9.5</td>\n      <td>27.3</td>\n      <td>7.6</td>\n      <td>62.3</td>\n      <td>2.3</td>\n      <td>4.000000e-01</td>\n      <td>5.30</td>\n      <td>16.3</td>\n      <td>...</td>\n      <td>0</td>\n      <td>4</td>\n      <td>2</td>\n      <td>3</td>\n      <td>0</td>\n      <td>1</td>\n      <td>2</td>\n      <td>144</td>\n      <td>80</td>\n      <td>129.9</td>\n    </tr>\n    <tr>\n      <th>4</th>\n      <td>31192</td>\n      <td>2</td>\n      <td>10.6</td>\n      <td>13.0</td>\n      <td>5.1</td>\n      <td>81.4</td>\n      <td>0.6</td>\n      <td>5.397605e-79</td>\n      <td>4.65</td>\n      <td>13.1</td>\n      <td>...</td>\n      <td>1</td>\n      <td>6</td>\n      <td>1</td>\n      <td>1</td>\n      <td>1</td>\n      <td>1</td>\n      <td>0</td>\n      <td>128</td>\n      <td>76</td>\n      <td>91.7</td>\n    </tr>\n    <tr>\n      <th>...</th>\n      <td>...</td>\n      <td>...</td>\n      <td>...</td>\n      <td>...</td>\n      <td>...</td>\n      <td>...</td>\n      <td>...</td>\n      <td>...</td>\n      <td>...</td>\n      <td>...</td>\n      <td>...</td>\n      <td>...</td>\n      <td>...</td>\n      <td>...</td>\n      <td>...</td>\n      <td>...</td>\n      <td>...</td>\n      <td>...</td>\n      <td>...</td>\n      <td>...</td>\n      <td>...</td>\n    </tr>\n    <tr>\n      <th>10027</th>\n      <td>102920</td>\n      <td>7</td>\n      <td>6.1</td>\n      <td>31.9</td>\n      <td>8.1</td>\n      <td>55.0</td>\n      <td>4.2</td>\n      <td>8.000000e-01</td>\n      <td>4.79</td>\n      <td>14.6</td>\n      <td>...</td>\n      <td>1</td>\n      <td>7</td>\n      <td>3</td>\n      <td>2</td>\n      <td>0</td>\n      <td>0</td>\n      <td>0</td>\n      <td>166</td>\n      <td>94</td>\n      <td>73.0</td>\n    </tr>\n    <tr>\n      <th>10028</th>\n      <td>102924</td>\n      <td>6</td>\n      <td>11.3</td>\n      <td>32.6</td>\n      <td>8.0</td>\n      <td>57.8</td>\n      <td>0.8</td>\n      <td>1.000000e+00</td>\n      <td>4.87</td>\n      <td>13.5</td>\n      <td>...</td>\n      <td>1</td>\n      <td>6</td>\n      <td>1</td>\n      <td>4</td>\n      <td>0</td>\n      <td>0</td>\n      <td>0</td>\n      <td>124</td>\n      <td>68</td>\n      <td>129.2</td>\n    </tr>\n    <tr>\n      <th>10029</th>\n      <td>102947</td>\n      <td>1</td>\n      <td>3.6</td>\n      <td>38.0</td>\n      <td>18.6</td>\n      <td>42.5</td>\n      <td>0.3</td>\n      <td>7.000000e-01</td>\n      <td>4.93</td>\n      <td>10.7</td>\n      <td>...</td>\n      <td>0</td>\n      <td>7</td>\n      <td>1</td>\n      <td>4</td>\n      <td>0</td>\n      <td>1</td>\n      <td>0</td>\n      <td>160</td>\n      <td>82</td>\n      <td>73.2</td>\n    </tr>\n    <tr>\n      <th>10030</th>\n      <td>102953</td>\n      <td>3</td>\n      <td>8.3</td>\n      <td>28.3</td>\n      <td>6.8</td>\n      <td>60.8</td>\n      <td>3.6</td>\n      <td>6.000000e-01</td>\n      <td>5.01</td>\n      <td>15.5</td>\n      <td>...</td>\n      <td>0</td>\n      <td>6</td>\n      <td>12</td>\n      <td>1</td>\n      <td>0</td>\n      <td>0</td>\n      <td>0</td>\n      <td>124</td>\n      <td>76</td>\n      <td>97.4</td>\n    </tr>\n    <tr>\n      <th>10031</th>\n      <td>102956</td>\n      <td>7</td>\n      <td>9.0</td>\n      <td>29.4</td>\n      <td>6.9</td>\n      <td>58.8</td>\n      <td>4.0</td>\n      <td>1.000000e+00</td>\n      <td>5.46</td>\n      <td>17.4</td>\n      <td>...</td>\n      <td>0</td>\n      <td>8</td>\n      <td>2</td>\n      <td>2</td>\n      <td>0</td>\n      <td>0</td>\n      <td>2</td>\n      <td>150</td>\n      <td>98</td>\n      <td>111.5</td>\n    </tr>\n  </tbody>\n</table>\n<p>10032 rows × 27 columns</p>\n</div>"
     },
     "execution_count": 47,
     "metadata": {},
     "output_type": "execute_result"
    }
   ],
   "source": [
    "combined_df"
   ],
   "metadata": {
    "collapsed": false,
    "ExecuteTime": {
     "end_time": "2023-08-01T10:08:25.016543Z",
     "start_time": "2023-08-01T10:08:24.967751Z"
    }
   }
  },
  {
   "cell_type": "code",
   "execution_count": null,
   "outputs": [],
   "source": [],
   "metadata": {
    "collapsed": false
   }
  }
 ],
 "metadata": {
  "kernelspec": {
   "display_name": "Python 3",
   "language": "python",
   "name": "python3"
  },
  "language_info": {
   "codemirror_mode": {
    "name": "ipython",
    "version": 2
   },
   "file_extension": ".py",
   "mimetype": "text/x-python",
   "name": "python",
   "nbconvert_exporter": "python",
   "pygments_lexer": "ipython2",
   "version": "2.7.6"
  }
 },
 "nbformat": 4,
 "nbformat_minor": 0
}
