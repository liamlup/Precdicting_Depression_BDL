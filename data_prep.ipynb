{
 "cells": [
  {
   "cell_type": "code",
   "execution_count": 1,
   "metadata": {
    "collapsed": true,
    "ExecuteTime": {
     "end_time": "2023-08-02T06:33:04.724315Z",
     "start_time": "2023-08-02T06:33:01.911870Z"
    }
   },
   "outputs": [],
   "source": [
    "import numpy as np\n",
    "import matplotlib.pyplot as plt\n",
    "import pandas as pd\n",
    "from sklearn.feature_selection import f_classif"
   ]
  },
  {
   "cell_type": "code",
   "execution_count": 2,
   "outputs": [],
   "source": [
    "# Depression scores from questionnaire of 2005-2018\n",
    "files = [\"DPQ_D.XPT\", \"DPQ_E.XPT\", \"DPQ_F.XPT\", \"DPQ_G.XPT\", \"DPQ_H.XPT\", \"DPQ_I.XPT\", \"DPQ_J.XPT\"]\n",
    "\n",
    "columns = [\"DPQ0\" + str(i) for i in range(10, 100, 10)]  # DPQ010 to DPQ090\n",
    "columns.insert(0,'SEQN')  # add SEQN column\n",
    "dfs = []  # list to store dataframes\n",
    "\n",
    "for file in  files:\n",
    "    df = pd.read_sas('data/questionnaire/' + file,format='xport',encoding='utf-8')  # read the file\n",
    "    df = df[columns] # extract the required columns\n",
    "    dfs.append(df)\n",
    "\n",
    "# combine all dataframes\n",
    "combined_df = pd.concat(dfs)\n",
    "combined_df = combined_df[(combined_df != 7) & (combined_df != 9)].dropna()\n",
    "combined_df = np.round(combined_df, 0).astype('int64')\n",
    "combined_df['score'] = combined_df.sum(axis=1) - combined_df['SEQN']\n",
    "combined_df = combined_df[['SEQN', 'score']]"
   ],
   "metadata": {
    "collapsed": false,
    "ExecuteTime": {
     "end_time": "2023-08-02T06:33:05.302983Z",
     "start_time": "2023-08-02T06:33:05.206645Z"
    }
   }
  },
  {
   "cell_type": "code",
   "execution_count": 3,
   "outputs": [],
   "source": [
    "# complete blood count\n",
    "files = [\"CBC_D.XPT\", \"CBC_E.XPT\", \"CBC_F.XPT\", \"CBC_G.XPT\", \"CBC_H.XPT\", \"CBC_I.XPT\", \"CBC_J.XPT\"]\n",
    "columns = [\"SEQN\",\"LBXWBCSI\",\"LBXLYPCT\",\"LBXMOPCT\", \"LBXNEPCT\", \"LBXEOPCT\", \"LBXBAPCT\", \"LBXRBCSI\", \"LBXHGB\", \"LBXMCVSI\", \"LBXRDW\", \"LBXPLTSI\",\"LBXMPSI\"]\n",
    "dfs = []  # list to store dataframes\n",
    "\n",
    "for file in  files:\n",
    "    df = pd.read_sas('data/CBC/' + file,format='xport',encoding='utf-8')  # read the file\n",
    "    df = df[columns] # extract the required columns\n",
    "    dfs.append(df)\n",
    "CBC_df = pd.concat(dfs)\n",
    "CBC_df = CBC_df.dropna()\n",
    "# convert SEQN to int\n",
    "CBC_df['SEQN'] = CBC_df['SEQN'].astype('int64')\n",
    "CBC_df.rename(columns={'LBXWBCSI': 'WBC count', 'LBXLYPCT': 'Lymphocyte %', 'LBXMOPCT': 'Monocyte %', 'LBXNEPCT': 'Segmented neutrophils %',\n",
    "                       'LBXEOPCT': 'Eosinophil %', 'LBXBAPCT': 'Basophil %', 'LBXRBCSI': 'RBC count', 'LBXHGB': 'Hemoglobin', 'LBXMCVSI': 'Mean cell vol','LBXRDW': 'RBC dist width','LBXPLTSI': 'Platelet count','LBXMPSI': 'Mean platelet vol'}, inplace=True)\n",
    "# merge with combined_df\n",
    "combined_df = pd.merge(combined_df, CBC_df, on='SEQN')"
   ],
   "metadata": {
    "collapsed": false,
    "ExecuteTime": {
     "end_time": "2023-08-02T06:33:05.777173Z",
     "start_time": "2023-08-02T06:33:05.581133Z"
    }
   }
  },
  {
   "cell_type": "code",
   "execution_count": 4,
   "outputs": [],
   "source": [
    "# demographics\n",
    "files = [\"DEMO_D.XPT\", \"DEMO_E.XPT\", \"DEMO_F.XPT\", \"DEMO_G.XPT\", \"DEMO_H.XPT\", \"DEMO_I.XPT\", \"DEMO_J.XPT\"]\n",
    "columns = [\"SEQN\",\"RIAGENDR\", \"RIDAGEYR\", \"DMDEDUC2\"]\n",
    "dfs = []  # list to store dataframes\n",
    "\n",
    "for file in  files:\n",
    "    df = pd.read_sas('data/demo/' + file,format='xport',encoding='utf-8')  # read the file\n",
    "    df = df[columns] # extract the required columns\n",
    "    dfs.append(df)\n",
    "demo_df = pd.concat(dfs)\n",
    "demo_df = demo_df.dropna()\n",
    "demo_df = demo_df[(demo_df != 7) & (demo_df != 9)].dropna()\n",
    "demo_df = np.round(demo_df, 0).astype('int64')\n",
    "demo_df['male'] = (demo_df['RIAGENDR'] == 1)*1\n",
    "demo_df['female'] = (demo_df['RIAGENDR'] == 2)*1\n",
    "demo_df = demo_df.drop(columns=['RIAGENDR'])\n",
    "demo_df.rename(columns={'RIDAGEYR': 'age', 'DMDEDUC2': 'education'}, inplace=True)\n",
    "# merge with combined_df\n",
    "combined_df = pd.merge(combined_df, demo_df, on='SEQN')"
   ],
   "metadata": {
    "collapsed": false,
    "ExecuteTime": {
     "end_time": "2023-08-02T06:33:06.411595Z",
     "start_time": "2023-08-02T06:33:06.008030Z"
    }
   }
  },
  {
   "cell_type": "code",
   "execution_count": 5,
   "outputs": [],
   "source": [
    "# sleep 2005-2014\n",
    "files = [\"SLQ_D.XPT\", \"SLQ_E.XPT\", \"SLQ_F.XPT\", \"SLQ_G.XPT\", \"SLQ_H.XPT\"]\n",
    "columns = ['SEQN', 'SLD010H']\n",
    "dfs = []  # list to store dataframes\n",
    "\n",
    "for file in  files:\n",
    "    df = pd.read_sas('data/sleep/' + file,format='xport',encoding='utf-8')  # read the file\n",
    "    df = df[columns] # extract the required columns\n",
    "    dfs.append(df)\n",
    "# 2015-2016\n",
    "df = pd.read_sas('data/sleep/' + 'SLQ_I.XPT',format='xport',encoding='utf-8')  # read the file\n",
    "df = df[[\"SEQN\", 'SLD012']] # extract the required columns\n",
    "df.rename(columns={'SLD012': 'SLD010H'}, inplace=True)\n",
    "dfs.append(df)\n",
    "\n",
    "df = pd.read_sas('data/sleep/' + 'SLQ_J.XPT',format='xport',encoding='utf-8')  # read the file\n",
    "df = df[[\"SEQN\", 'SLD012']] # extract the required columns\n",
    "df.rename(columns={'SLD012': 'SLD010H'}, inplace=True)\n",
    "dfs.append(df)\n",
    "\n",
    "sleep_df = pd.concat(dfs)\n",
    "sleep_df = sleep_df[(sleep_df != 77) & (sleep_df != 99)].dropna()\n",
    "sleep_df = np.round(sleep_df, 0).astype('int64')\n",
    "sleep_df.rename(columns={'SLD010H': 'sleep'}, inplace=True)\n",
    "# merge with combined_df\n",
    "combined_df = pd.merge(combined_df, sleep_df, on='SEQN')"
   ],
   "metadata": {
    "collapsed": false,
    "ExecuteTime": {
     "end_time": "2023-08-02T06:33:06.538111Z",
     "start_time": "2023-08-02T06:33:06.409798Z"
    }
   }
  },
  {
   "cell_type": "code",
   "execution_count": 6,
   "outputs": [],
   "source": [
    "# alcohol\n",
    "files = [\"ALQ_D.XPT\", \"ALQ_E.XPT\", \"ALQ_F.XPT\", \"ALQ_G.XPT\", \"ALQ_H.XPT\", \"ALQ_I.XPT\", \"ALQ_J.XPT\"]\n",
    "columns = ['SEQN', 'ALQ130']\n",
    "dfs = []  # list to store dataframes\n",
    "\n",
    "for file in  files:\n",
    "    df = pd.read_sas('data/alcohol/' + file,format='xport',encoding='utf-8')  # read the file\n",
    "    df = df[columns] # extract the required columns\n",
    "    dfs.append(df)\n",
    "\n",
    "alcohol_df = pd.concat(dfs)\n",
    "alcohol_df = alcohol_df[(alcohol_df != 777) & (alcohol_df != 999)].dropna()\n",
    "alcohol_df = np.round(alcohol_df, 0).astype('int64')\n",
    "alcohol_df.rename(columns={'ALQ130': 'alcohol'}, inplace=True)\n",
    "# merge with combined_df\n",
    "combined_df = pd.merge(combined_df, alcohol_df, on='SEQN')"
   ],
   "metadata": {
    "collapsed": false,
    "ExecuteTime": {
     "end_time": "2023-08-02T06:33:07.063612Z",
     "start_time": "2023-08-02T06:33:06.959894Z"
    }
   }
  },
  {
   "cell_type": "code",
   "execution_count": 7,
   "outputs": [],
   "source": [
    "# diet\n",
    "files = [\"DBQ_D.XPT\", \"DBQ_E.XPT\", \"DBQ_F.XPT\", \"DBQ_G.XPT\", \"DBQ_H.XPT\", \"DBQ_I.XPT\", \"DBQ_J.XPT\"]\n",
    "columns = [\"SEQN\", \"DBQ700\"]\n",
    "dfs = []  # list to store dataframes\n",
    "\n",
    "for file in  files:\n",
    "    df = pd.read_sas('data/diet/' + file,format='xport',encoding='utf-8')  # read the file\n",
    "    df = df[columns] # extract the required columns\n",
    "    dfs.append(df)\n",
    "    \n",
    "diet_df = pd.concat(dfs)\n",
    "diet_df = diet_df[(diet_df != 7) & (diet_df != 9)].dropna()\n",
    "diet_df = np.round(diet_df, 0).astype('int64')\n",
    "# how healthy is diet: 5 is best, 1 is worst\n",
    "diet_df['DBQ700'] = 6 - diet_df['DBQ700']\n",
    "diet_df.rename(columns={'DBQ700': 'diet'}, inplace=True)\n",
    "# merge with combined_df\n",
    "combined_df = pd.merge(combined_df, diet_df, on='SEQN')"
   ],
   "metadata": {
    "collapsed": false,
    "ExecuteTime": {
     "end_time": "2023-08-02T06:33:07.850884Z",
     "start_time": "2023-08-02T06:33:07.292099Z"
    }
   }
  },
  {
   "cell_type": "code",
   "execution_count": 8,
   "outputs": [],
   "source": [
    "# physical activity\n",
    "files = [\"PAQ_E.XPT\", \"PAQ_F.XPT\", \"PAQ_G.XPT\", \"PAQ_H.XPT\", \"PAQ_I.XPT\", \"PAQ_J.XPT\"]\n",
    "columns = [\"SEQN\",\"PAQ650\", \"PAQ665\"]\n",
    "dfs = []  # list to store dataframes\n",
    "\n",
    "for file in  files:\n",
    "    df = pd.read_sas('data/physical_activity/' + file,format='xport',encoding='utf-8')  # read the file\n",
    "    df = df[columns] # extract the required columns\n",
    "    dfs.append(df)\n",
    "# 2005-2006\n",
    "df = pd.read_sas('data/physical_activity/' + 'PAQ_D.XPT',format='xport',encoding='utf-8')  # read the file\n",
    "df = df[[\"SEQN\",\"PAD200\", \"PAD320\"]] # extract the required columns\n",
    "# change the value 3 to 2\n",
    "df['PAD200'] = df['PAD200'].replace(3, 2)\n",
    "df['PAD320'] = df['PAD320'].replace(3, 2)\n",
    "df.rename(columns={'PAD200': 'PAQ650', 'PAD320': 'PAQ665'}, inplace=True)\n",
    "dfs.append(df)\n",
    "\n",
    "    \n",
    "physical_activity_df = pd.concat(dfs)\n",
    "physical_activity_df = physical_activity_df[(physical_activity_df != 7) & (physical_activity_df != 9)].dropna()\n",
    "physical_activity_df = np.round(physical_activity_df, 0).astype('int64')\n",
    "physical_activity_df.replace(2, 0, inplace=True)\n",
    "physical_activity_df.rename(columns={'PAQ650': 'vigorous activity', 'PAQ665': 'moderate activity'}, inplace=True)\n",
    "# sort by SEQN in ascending order\n",
    "physical_activity_df.sort_values(by=['SEQN'], inplace=True)\n",
    "# merge with combined_df\n",
    "combined_df = pd.merge(combined_df, physical_activity_df, on='SEQN')\n",
    "\n"
   ],
   "metadata": {
    "collapsed": false,
    "ExecuteTime": {
     "end_time": "2023-08-02T06:33:08.233977Z",
     "start_time": "2023-08-02T06:33:07.858544Z"
    }
   }
  },
  {
   "cell_type": "code",
   "execution_count": 9,
   "outputs": [],
   "source": [
    "# smoking\n",
    "files = [\"SMQ_D.XPT\",\"SMQ_E.XPT\", \"SMQ_F.XPT\", \"SMQ_G.XPT\", \"SMQ_H.XPT\", \"SMQ_I.XPT\", \"SMQ_J.XPT\"]\n",
    "columns = [\"SEQN\", \"SMQ040\"]\n",
    "dfs = []  # list to store dataframes\n",
    "\n",
    "for file in  files:\n",
    "    df = pd.read_sas('data/smoking/' + file,format='xport',encoding='utf-8')  # read the file\n",
    "    df = df[columns] # extract the required columns\n",
    "    dfs.append(df)\n",
    "\n",
    "smoking_df = pd.concat(dfs)\n",
    "smoking_df = smoking_df[(smoking_df != 7) & (smoking_df != 9)].dropna()\n",
    "smoking_df = np.round(smoking_df, 0).astype('int64')\n",
    "smoking_df.rename(columns={'SMQ040': 'smoking'}, inplace=True)\n",
    "# change  3 to 0, 2 to 1, and 1 to 2\n",
    "smoking_df['smoking'] = smoking_df['smoking'].replace(3, 0)\n",
    "smoking_df['smoking'] = smoking_df['smoking'].replace(2, 3)\n",
    "smoking_df['smoking'] = smoking_df['smoking'].replace(1, 2) #temp\n",
    "smoking_df['smoking'] = smoking_df['smoking'].replace(3, 1)\n",
    "# merge with combined_df\n",
    "combined_df = pd.merge(combined_df, smoking_df, on='SEQN')"
   ],
   "metadata": {
    "collapsed": false,
    "ExecuteTime": {
     "end_time": "2023-08-02T06:33:08.519269Z",
     "start_time": "2023-08-02T06:33:08.238895Z"
    }
   }
  },
  {
   "cell_type": "code",
   "execution_count": 10,
   "outputs": [],
   "source": [
    "# Blood pressure\n",
    "files = [\"BPX_D.XPT\", \"BPX_E.XPT\", \"BPX_F.XPT\", \"BPX_G.XPT\", \"BPX_H.XPT\", \"BPX_I.XPT\", \"BPX_J.XPT\"]\n",
    "columns = [\"SEQN\", \"BPXSY1\", \"BPXDI1\"]\n",
    "dfs = []  # list to store dataframes\n",
    "\n",
    "for file in  files:\n",
    "    df = pd.read_sas('data/BP/' + file,format='xport',encoding='utf-8')  # read the file\n",
    "    df = df[columns] # extract the required columns\n",
    "    dfs.append(df)\n",
    "    \n",
    "blood_pressure_df = pd.concat(dfs)\n",
    "blood_pressure_df = blood_pressure_df.dropna()\n",
    "blood_pressure_df = np.round(blood_pressure_df, 0).astype('int64')\n",
    "blood_pressure_df.rename(columns={'BPXSY1': 'SBP', 'BPXDI1': 'DBP'}, inplace=True)\n",
    "# merge with combined_df\n",
    "combined_df = pd.merge(combined_df, blood_pressure_df, on='SEQN')"
   ],
   "metadata": {
    "collapsed": false,
    "ExecuteTime": {
     "end_time": "2023-08-02T06:33:09.267919Z",
     "start_time": "2023-08-02T06:33:08.847106Z"
    }
   }
  },
  {
   "cell_type": "code",
   "execution_count": 11,
   "outputs": [],
   "source": [
    "# weight [kG]\n",
    "files = [\"BMX_D.XPT\", \"BMX_E.XPT\", \"BMX_F.XPT\", \"BMX_G.XPT\", \"BMX_H.XPT\", \"BMX_I.XPT\", \"BMX_J.XPT\"]\n",
    "columns = [\"SEQN\", \"BMXWT\"]\n",
    "dfs = []  # list to store dataframes\n",
    "\n",
    "for file in  files:\n",
    "    df = pd.read_sas('data/weight/' + file,format='xport',encoding='utf-8')  # read the file\n",
    "    df = df[columns] # extract the required columns\n",
    "    dfs.append(df)\n",
    "    \n",
    "weight_df = pd.concat(dfs)\n",
    "weight_df = weight_df.dropna()\n",
    "\n",
    "weight_df.rename(columns={'BMXWT': 'weight'}, inplace=True)\n",
    "# merge with combined_df\n",
    "combined_df = pd.merge(combined_df, weight_df, on='SEQN')\n"
   ],
   "metadata": {
    "collapsed": false,
    "ExecuteTime": {
     "end_time": "2023-08-02T06:33:10.070045Z",
     "start_time": "2023-08-02T06:33:09.808315Z"
    }
   }
  },
  {
   "cell_type": "code",
   "execution_count": 12,
   "outputs": [],
   "source": [
    "# diabetes\n",
    "files = [\"DIQ_D.XPT\", \"DIQ_E.XPT\", \"DIQ_F.XPT\", \"DIQ_G.XPT\", \"DIQ_H.XPT\", \"DIQ_I.XPT\", \"DIQ_J.XPT\"]\n",
    "columns = [\"SEQN\", \"DIQ010\"]\n",
    "dfs = []  # list to store dataframes\n",
    "\n",
    "for file in  files:\n",
    "    df = pd.read_sas('data/diabetes/' + file,format='xport',encoding='utf-8')  # read the file\n",
    "    df = df[columns] # extract the required columns\n",
    "    dfs.append(df)\n",
    "    \n",
    "diabetes_df = pd.concat(dfs)\n",
    "diabetes_df = diabetes_df.dropna()\n",
    "diabetes_df = np.round(diabetes_df, 0).astype('int64')\n",
    "diabetes_df = diabetes_df[(diabetes_df != 7) & (diabetes_df != 9)].dropna()\n",
    "diabetes_df.rename(columns={'DIQ010': 'diabetes'}, inplace=True)\n",
    "# replace 1 with 2, 2 with 0 and 3 with 1\n",
    "diabetes_df['diabetes'] = diabetes_df['diabetes'].replace({1: 2, 2: 0, 3: 1})\n",
    "# merge with combined_df\n",
    "combined_df = pd.merge(combined_df, diabetes_df, on='SEQN')\n"
   ],
   "metadata": {
    "collapsed": false,
    "ExecuteTime": {
     "end_time": "2023-08-02T06:33:11.188701Z",
     "start_time": "2023-08-02T06:33:10.804801Z"
    }
   }
  },
  {
   "cell_type": "code",
   "execution_count": 13,
   "outputs": [],
   "source": [
    "# cholesterol [mg/dL]\n",
    "files = ['HDL_D.XPT', 'HDL_E.XPT', 'HDL_F.XPT', 'HDL_G.XPT', 'HDL_H.XPT', 'HDL_I.XPT', 'HDL_J.XPT']\n",
    "columns = [\"SEQN\", \"LBDHDD\"]\n",
    "dfs = []  # list to store dataframes\n",
    "\n",
    "for file in  files:\n",
    "    df = pd.read_sas('data/cholesterol_HDL/' + file,format='xport',encoding='utf-8')  # read the file\n",
    "    df = df[columns] # extract the required columns\n",
    "    dfs.append(df)\n",
    "\n",
    "cholesterol_df = pd.concat(dfs)\n",
    "cholesterol_df = cholesterol_df.dropna().astype('int64')\n",
    "cholesterol_df.rename(columns={'LBDHDD': 'cholesterol_HDL'}, inplace=True)\n",
    "# merge with combined_df\n",
    "combined_df = pd.merge(combined_df, cholesterol_df, on='SEQN')\n",
    "\n"
   ],
   "metadata": {
    "collapsed": false,
    "ExecuteTime": {
     "end_time": "2023-08-02T06:33:11.443074Z",
     "start_time": "2023-08-02T06:33:11.385477Z"
    }
   }
  },
  {
   "cell_type": "code",
   "execution_count": 14,
   "outputs": [],
   "source": [
    "# cholesterol LDL and triglycerides [mg/dL]\n",
    "files = ['TRIGLY_D.XPT', 'TRIGLY_E.XPT', 'TRIGLY_F.XPT', 'TRIGLY_G.XPT', 'TRIGLY_H.XPT', 'TRIGLY_I.XPT', 'TRIGLY_J.XPT']\n",
    "columns = [\"SEQN\", \"LBXTR\", \"LBDLDL\"]\n",
    "dfs = []  # list to store dataframes\n",
    "\n",
    "for file in  files:\n",
    "    df = pd.read_sas('data/cholesterol_LDL/' + file,format='xport',encoding='utf-8')  # read the file\n",
    "    df = df[columns] # extract the required columns\n",
    "    dfs.append(df)\n",
    "    \n",
    "cholesterol_LDL_triglycerides_df = pd.concat(dfs)\n",
    "cholesterol_LDL_triglycerides_df = cholesterol_LDL_triglycerides_df.dropna().astype('int64')\n",
    "cholesterol_LDL_triglycerides_df.rename(columns={'LBXTR': 'triglycerides', 'LBDLDL': 'cholesterol_LDL'}, inplace=True)\n",
    "# merge with combined_df\n",
    "combined_df = pd.merge(combined_df, cholesterol_LDL_triglycerides_df, on='SEQN')"
   ],
   "metadata": {
    "collapsed": false,
    "ExecuteTime": {
     "end_time": "2023-08-02T06:33:12.130727Z",
     "start_time": "2023-08-02T06:33:12.074453Z"
    }
   }
  },
  {
   "cell_type": "code",
   "execution_count": 15,
   "outputs": [],
   "source": [
    "# health condition\n",
    "files = ['HSQ_D.XPT','HSQ_E.XPT','HSQ_F.XPT','HSQ_G.XPT','HSQ_H.XPT','HSQ_I.XPT','HSQ_J.XPT']\n",
    "columns = [\"SEQN\", \"HSD010\"]\n",
    "dfs = []  # list to store dataframes\n",
    "\n",
    "for file in  files:\n",
    "    df = pd.read_sas('data/health condition/' + file,format='xport',encoding='utf-8')  # read the file\n",
    "    df = df[columns] # extract the required columns\n",
    "    dfs.append(df)\n",
    "    \n",
    "health_condition_df = pd.concat(dfs)\n",
    "health_condition_df = health_condition_df.dropna()\n",
    "health_condition_df = np.round(health_condition_df, 0).astype('int64')\n",
    "health_condition_df = health_condition_df[(health_condition_df != 7) & (health_condition_df != 9)].dropna()\n",
    "health_condition_df.rename(columns={'HSD010': 'health_condition'}, inplace=True)\n",
    "health_condition_df['health_condition'] = (6 - health_condition_df['health_condition']).astype('int64')\n",
    "# merge with combined_df\n",
    "combined_df = pd.merge(combined_df, health_condition_df, on='SEQN')\n"
   ],
   "metadata": {
    "collapsed": false,
    "ExecuteTime": {
     "end_time": "2023-08-02T06:33:13.460902Z",
     "start_time": "2023-08-02T06:33:13.294008Z"
    }
   }
  },
  {
   "cell_type": "code",
   "execution_count": 16,
   "outputs": [
    {
     "data": {
      "text/plain": "        SEQN  score  WBC count  Lymphocyte %  Monocyte %  \\\n0      31150      1        6.5          18.8         9.6   \n1      31158      2        8.0          25.6         5.9   \n2      31167      3        9.5          27.3         7.6   \n3      31195      0        8.9          18.3         7.4   \n4      31228      0        5.9          35.7         6.1   \n...      ...    ...        ...           ...         ...   \n4699  102895      3        6.6          35.8         6.6   \n4700  102918      0        6.7          33.2         9.3   \n4701  102920      7        6.1          31.9         8.1   \n4702  102947      1        3.6          38.0        18.6   \n4703  102956      7        9.0          29.4         6.9   \n\n      Segmented neutrophils %  Eosinophil %  Basophil %  RBC count  \\\n0                        68.7           2.4         0.4       4.48   \n1                        62.2           5.1         1.2       4.73   \n2                        62.3           2.3         0.4       5.30   \n3                        72.3           1.9         0.1       4.40   \n4                        55.0           2.3         1.0       5.70   \n...                       ...           ...         ...        ...   \n4699                     48.5           8.2         1.0       5.38   \n4700                     53.7           3.2         0.8       4.82   \n4701                     55.0           4.2         0.8       4.79   \n4702                     42.5           0.3         0.7       4.93   \n4703                     58.8           4.0         1.0       5.46   \n\n      Hemoglobin  ...  moderate activity  smoking  SBP  DBP  weight  diabetes  \\\n0           14.4  ...                  1        0  144   74    85.0       0.0   \n1           15.9  ...                  1        2  154   74    69.2       0.0   \n2           16.3  ...                  1        2  144   80   129.9       0.0   \n3           13.5  ...                  0        0  118   64    62.7       0.0   \n4           16.5  ...                  0        0  122   62    61.5       0.0   \n...          ...  ...                ...      ...  ...  ...     ...       ...   \n4699        14.4  ...                  0        2  142   92   117.8       2.0   \n4700        15.5  ...                  0        2   98   72    64.3       0.0   \n4701        14.6  ...                  0        0  166   94    73.0       0.0   \n4702        10.7  ...                  1        0  160   82    73.2       0.0   \n4703        17.4  ...                  0        2  150   98   111.5       0.0   \n\n      cholesterol_HDL  triglycerides  cholesterol_LDL  health_condition  \n0                  81             50               90                 4  \n1                  71             88              110                 4  \n2                  37            325              100                 3  \n3                  43             85              109                 4  \n4                  64             66              117                 3  \n...               ...            ...              ...               ...  \n4699               40             76              112                 3  \n4700               49             52               88                 5  \n4701               66            101              137                 3  \n4702               70             35               66                 3  \n4703               34            269               75                 3  \n\n[4704 rows x 32 columns]",
      "text/html": "<div>\n<style scoped>\n    .dataframe tbody tr th:only-of-type {\n        vertical-align: middle;\n    }\n\n    .dataframe tbody tr th {\n        vertical-align: top;\n    }\n\n    .dataframe thead th {\n        text-align: right;\n    }\n</style>\n<table border=\"1\" class=\"dataframe\">\n  <thead>\n    <tr style=\"text-align: right;\">\n      <th></th>\n      <th>SEQN</th>\n      <th>score</th>\n      <th>WBC count</th>\n      <th>Lymphocyte %</th>\n      <th>Monocyte %</th>\n      <th>Segmented neutrophils %</th>\n      <th>Eosinophil %</th>\n      <th>Basophil %</th>\n      <th>RBC count</th>\n      <th>Hemoglobin</th>\n      <th>...</th>\n      <th>moderate activity</th>\n      <th>smoking</th>\n      <th>SBP</th>\n      <th>DBP</th>\n      <th>weight</th>\n      <th>diabetes</th>\n      <th>cholesterol_HDL</th>\n      <th>triglycerides</th>\n      <th>cholesterol_LDL</th>\n      <th>health_condition</th>\n    </tr>\n  </thead>\n  <tbody>\n    <tr>\n      <th>0</th>\n      <td>31150</td>\n      <td>1</td>\n      <td>6.5</td>\n      <td>18.8</td>\n      <td>9.6</td>\n      <td>68.7</td>\n      <td>2.4</td>\n      <td>0.4</td>\n      <td>4.48</td>\n      <td>14.4</td>\n      <td>...</td>\n      <td>1</td>\n      <td>0</td>\n      <td>144</td>\n      <td>74</td>\n      <td>85.0</td>\n      <td>0.0</td>\n      <td>81</td>\n      <td>50</td>\n      <td>90</td>\n      <td>4</td>\n    </tr>\n    <tr>\n      <th>1</th>\n      <td>31158</td>\n      <td>2</td>\n      <td>8.0</td>\n      <td>25.6</td>\n      <td>5.9</td>\n      <td>62.2</td>\n      <td>5.1</td>\n      <td>1.2</td>\n      <td>4.73</td>\n      <td>15.9</td>\n      <td>...</td>\n      <td>1</td>\n      <td>2</td>\n      <td>154</td>\n      <td>74</td>\n      <td>69.2</td>\n      <td>0.0</td>\n      <td>71</td>\n      <td>88</td>\n      <td>110</td>\n      <td>4</td>\n    </tr>\n    <tr>\n      <th>2</th>\n      <td>31167</td>\n      <td>3</td>\n      <td>9.5</td>\n      <td>27.3</td>\n      <td>7.6</td>\n      <td>62.3</td>\n      <td>2.3</td>\n      <td>0.4</td>\n      <td>5.30</td>\n      <td>16.3</td>\n      <td>...</td>\n      <td>1</td>\n      <td>2</td>\n      <td>144</td>\n      <td>80</td>\n      <td>129.9</td>\n      <td>0.0</td>\n      <td>37</td>\n      <td>325</td>\n      <td>100</td>\n      <td>3</td>\n    </tr>\n    <tr>\n      <th>3</th>\n      <td>31195</td>\n      <td>0</td>\n      <td>8.9</td>\n      <td>18.3</td>\n      <td>7.4</td>\n      <td>72.3</td>\n      <td>1.9</td>\n      <td>0.1</td>\n      <td>4.40</td>\n      <td>13.5</td>\n      <td>...</td>\n      <td>0</td>\n      <td>0</td>\n      <td>118</td>\n      <td>64</td>\n      <td>62.7</td>\n      <td>0.0</td>\n      <td>43</td>\n      <td>85</td>\n      <td>109</td>\n      <td>4</td>\n    </tr>\n    <tr>\n      <th>4</th>\n      <td>31228</td>\n      <td>0</td>\n      <td>5.9</td>\n      <td>35.7</td>\n      <td>6.1</td>\n      <td>55.0</td>\n      <td>2.3</td>\n      <td>1.0</td>\n      <td>5.70</td>\n      <td>16.5</td>\n      <td>...</td>\n      <td>0</td>\n      <td>0</td>\n      <td>122</td>\n      <td>62</td>\n      <td>61.5</td>\n      <td>0.0</td>\n      <td>64</td>\n      <td>66</td>\n      <td>117</td>\n      <td>3</td>\n    </tr>\n    <tr>\n      <th>...</th>\n      <td>...</td>\n      <td>...</td>\n      <td>...</td>\n      <td>...</td>\n      <td>...</td>\n      <td>...</td>\n      <td>...</td>\n      <td>...</td>\n      <td>...</td>\n      <td>...</td>\n      <td>...</td>\n      <td>...</td>\n      <td>...</td>\n      <td>...</td>\n      <td>...</td>\n      <td>...</td>\n      <td>...</td>\n      <td>...</td>\n      <td>...</td>\n      <td>...</td>\n      <td>...</td>\n    </tr>\n    <tr>\n      <th>4699</th>\n      <td>102895</td>\n      <td>3</td>\n      <td>6.6</td>\n      <td>35.8</td>\n      <td>6.6</td>\n      <td>48.5</td>\n      <td>8.2</td>\n      <td>1.0</td>\n      <td>5.38</td>\n      <td>14.4</td>\n      <td>...</td>\n      <td>0</td>\n      <td>2</td>\n      <td>142</td>\n      <td>92</td>\n      <td>117.8</td>\n      <td>2.0</td>\n      <td>40</td>\n      <td>76</td>\n      <td>112</td>\n      <td>3</td>\n    </tr>\n    <tr>\n      <th>4700</th>\n      <td>102918</td>\n      <td>0</td>\n      <td>6.7</td>\n      <td>33.2</td>\n      <td>9.3</td>\n      <td>53.7</td>\n      <td>3.2</td>\n      <td>0.8</td>\n      <td>4.82</td>\n      <td>15.5</td>\n      <td>...</td>\n      <td>0</td>\n      <td>2</td>\n      <td>98</td>\n      <td>72</td>\n      <td>64.3</td>\n      <td>0.0</td>\n      <td>49</td>\n      <td>52</td>\n      <td>88</td>\n      <td>5</td>\n    </tr>\n    <tr>\n      <th>4701</th>\n      <td>102920</td>\n      <td>7</td>\n      <td>6.1</td>\n      <td>31.9</td>\n      <td>8.1</td>\n      <td>55.0</td>\n      <td>4.2</td>\n      <td>0.8</td>\n      <td>4.79</td>\n      <td>14.6</td>\n      <td>...</td>\n      <td>0</td>\n      <td>0</td>\n      <td>166</td>\n      <td>94</td>\n      <td>73.0</td>\n      <td>0.0</td>\n      <td>66</td>\n      <td>101</td>\n      <td>137</td>\n      <td>3</td>\n    </tr>\n    <tr>\n      <th>4702</th>\n      <td>102947</td>\n      <td>1</td>\n      <td>3.6</td>\n      <td>38.0</td>\n      <td>18.6</td>\n      <td>42.5</td>\n      <td>0.3</td>\n      <td>0.7</td>\n      <td>4.93</td>\n      <td>10.7</td>\n      <td>...</td>\n      <td>1</td>\n      <td>0</td>\n      <td>160</td>\n      <td>82</td>\n      <td>73.2</td>\n      <td>0.0</td>\n      <td>70</td>\n      <td>35</td>\n      <td>66</td>\n      <td>3</td>\n    </tr>\n    <tr>\n      <th>4703</th>\n      <td>102956</td>\n      <td>7</td>\n      <td>9.0</td>\n      <td>29.4</td>\n      <td>6.9</td>\n      <td>58.8</td>\n      <td>4.0</td>\n      <td>1.0</td>\n      <td>5.46</td>\n      <td>17.4</td>\n      <td>...</td>\n      <td>0</td>\n      <td>2</td>\n      <td>150</td>\n      <td>98</td>\n      <td>111.5</td>\n      <td>0.0</td>\n      <td>34</td>\n      <td>269</td>\n      <td>75</td>\n      <td>3</td>\n    </tr>\n  </tbody>\n</table>\n<p>4704 rows × 32 columns</p>\n</div>"
     },
     "execution_count": 16,
     "metadata": {},
     "output_type": "execute_result"
    }
   ],
   "source": [
    "combined_df"
   ],
   "metadata": {
    "collapsed": false,
    "ExecuteTime": {
     "end_time": "2023-08-02T06:33:14.367518Z",
     "start_time": "2023-08-02T06:33:14.327476Z"
    }
   }
  },
  {
   "cell_type": "code",
   "execution_count": 17,
   "outputs": [],
   "source": [
    "# create depression column with 1 if score is equal or greater than 10 and 0 otherwise\n",
    "combined_df['depression'] = np.where(combined_df['score'] >= 10, 1, 0)\n",
    "# drop score\n",
    "combined_df.drop(columns=['SEQN','score'], inplace=True)\n"
   ],
   "metadata": {
    "collapsed": false,
    "ExecuteTime": {
     "end_time": "2023-08-02T06:33:23.506453Z",
     "start_time": "2023-08-02T06:33:23.495517Z"
    }
   }
  },
  {
   "cell_type": "code",
   "execution_count": 18,
   "outputs": [],
   "source": [
    "# save to csv\n",
    "combined_df.to_csv('data/combined.csv', index=False)"
   ],
   "metadata": {
    "collapsed": false,
    "ExecuteTime": {
     "end_time": "2023-08-02T06:33:24.758342Z",
     "start_time": "2023-08-02T06:33:24.682741Z"
    }
   }
  },
  {
   "cell_type": "code",
   "execution_count": 19,
   "outputs": [
    {
     "data": {
      "text/plain": "<Figure size 1700x800 with 1 Axes>",
      "image/png": "[encoded data removed]"
     },
     "metadata": {},
     "output_type": "display_data"
    }
   ],
   "source": [
    "# feature importance\n",
    "X = combined_df.drop(columns=['depression'])\n",
    "y = combined_df['depression']\n",
    "\n",
    "f_values, p_values = f_classif(X, y)\n",
    "\n",
    "\n",
    "f_test = pd.DataFrame({\n",
    "    'Feature': X.columns,\n",
    "    'F-value': f_values,\n",
    "    'p-value': p_values\n",
    "})\n",
    "\n",
    "f_test = f_test.sort_values(by='F-value', ascending=False)\n",
    "\n",
    "\n",
    "# Significance notation\n",
    "def significance_notation(p):\n",
    "    if p > 0.05:\n",
    "        return 'ns'\n",
    "    elif 0.05 >= p > 0.01:\n",
    "        return '*'\n",
    "    elif 0.01 >= p > 0.001:\n",
    "        return '**'\n",
    "    elif p <= 0.001:\n",
    "        return '***'\n",
    "\n",
    "\n",
    "plt.figure(figsize=(17, 8))\n",
    "bars = plt.bar(f_test['Feature'], f_test['F-value'], color='blue')\n",
    "for bar, p_value in zip(bars, f_test['p-value']):\n",
    "    height = bar.get_height()\n",
    "    notation = significance_notation(p_value)\n",
    "    plt.text(bar.get_x() + bar.get_width() / 2, height, notation, ha='center', va='bottom')\n",
    "plt.title('Features Importance (Based on F-Test)')\n",
    "plt.xlabel('Feature')\n",
    "plt.ylabel('F-value')\n",
    "plt.xticks(rotation=90, ha='center')\n",
    "plt.xlim(-0.5, len(f_test['Feature']) - 0.5)\n",
    "plt.tight_layout()\n",
    "plt.show()"
   ],
   "metadata": {
    "collapsed": false,
    "ExecuteTime": {
     "end_time": "2023-08-02T06:33:26.463211Z",
     "start_time": "2023-08-02T06:33:25.306352Z"
    }
   }
  }
 ],
 "metadata": {
  "kernelspec": {
   "display_name": "Python 3",
   "language": "python",
   "name": "python3"
  },
  "language_info": {
   "codemirror_mode": {
    "name": "ipython",
    "version": 2
   },
   "file_extension": ".py",
   "mimetype": "text/x-python",
   "name": "python",
   "nbconvert_exporter": "python",
   "pygments_lexer": "ipython2",
   "version": "2.7.6"
  }
 },
 "nbformat": 4,
 "nbformat_minor": 0
}
